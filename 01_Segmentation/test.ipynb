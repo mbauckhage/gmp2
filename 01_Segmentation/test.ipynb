{
 "cells": [
  {
   "cell_type": "code",
   "execution_count": 16,
   "metadata": {},
   "outputs": [],
   "source": [
    "import geopandas as gpd\n",
    "\n",
    "def assign_heights(source_geojson, target_geojson, output_geojson, height_attr='height',target_crs='EPSG:2056'):\n",
    "    \"\"\"\n",
    "    Assign height values from source GeoJSON to target GeoJSON based on spatial proximity.\n",
    "\n",
    "    :param source_geojson: Path to the GeoJSON file with height values.\n",
    "    :param target_geojson: Path to the GeoJSON file without height values.\n",
    "    :param output_geojson: Path to save the updated GeoJSON file.\n",
    "    :param height_attr: The attribute name in the source GeoJSON containing height information.\n",
    "    \"\"\"\n",
    "    # Load the GeoJSON files\n",
    "    source_gdf = gpd.read_file(source_geojson)\n",
    "    target_gdf = gpd.read_file(target_geojson)\n",
    "\n",
    "    # Ensure both GeoDataFrames use the same CRS\n",
    "    if source_gdf.crs != target_gdf.crs:\n",
    "        target_gdf = target_gdf.to_crs(source_gdf.crs)\n",
    "    \n",
    "    # Ensure unique indices for both GeoDataFrames before performing the spatial join\n",
    "    source_gdf = source_gdf.reset_index(drop=True)\n",
    "    target_gdf = target_gdf.reset_index(drop=True)\n",
    "\n",
    "    # Perform a spatial join to match target geometries with the closest source geometries\n",
    "    joined_gdf = gpd.sjoin_nearest(target_gdf, source_gdf[[height_attr, 'geometry']], how='left', distance_col='distance')\n",
    "\n",
    "    # Drop duplicate rows based on 'index_right' (the index of the matched source geometries)\n",
    "    # This ensures each row in the target GeoDataFrame gets only one height value.\n",
    "    joined_gdf = joined_gdf.drop_duplicates(subset='index_right', keep='first')\n",
    "\n",
    "    # Reset index of joined_gdf to align with target_gdf\n",
    "    joined_gdf = joined_gdf.reset_index(drop=True)\n",
    "\n",
    "    # Transfer height values to target GeoDataFrame\n",
    "    target_gdf[height_attr] = joined_gdf[height_attr]\n",
    "    \n",
    "    # Set height to 0 for all non-NaN height values\n",
    "    target_gdf[height_attr] = target_gdf[height_attr].fillna(0)\n",
    "    \n",
    "    # Explicitly set the CRS for the target GeoDataFrame before saving\n",
    "    target_gdf = target_gdf.set_crs(target_crs, allow_override=True)\n",
    "\n",
    "    # Save the updated GeoDataFrame to a new GeoJSON file\n",
    "    target_gdf.to_file(output_geojson, driver='GeoJSON')\n",
    "    \n",
    "    print(f\"Height values assigned and saved to {output_geojson}\")\n"
   ]
  },
  {
   "cell_type": "code",
   "execution_count": 17,
   "metadata": {},
   "outputs": [
    {
     "name": "stderr",
     "output_type": "stream",
     "text": [
      "/Users/mischabauckhage/opt/anaconda3/envs/gis/lib/python3.12/site-packages/geopandas/array.py:403: UserWarning: Geometry is in a geographic CRS. Results from 'sjoin_nearest' are likely incorrect. Use 'GeoSeries.to_crs()' to re-project geometries to a projected CRS before this operation.\n",
      "\n",
      "  warnings.warn(\n"
     ]
    },
    {
     "name": "stdout",
     "output_type": "stream",
     "text": [
      "Height values assigned and saved to /Volumes/T7 Shield/GMP_Data/processed_data/00_Segmentation/1899/skeleton_1899_heights.geojson\n"
     ]
    }
   ],
   "source": [
    "base_path = \"/Volumes/T7 Shield/GMP_Data/processed_data/00_Segmentation/\"\n",
    "\n",
    "source_geojson = base_path + '1975/skeleton_1975.geojson'\n",
    "target_geojson = base_path + '1899/skeleton_1899.geojson'\n",
    "\n",
    "output_geojson = base_path + '1899/skeleton_1899_heights.geojson'\n",
    "\n",
    "assign_heights(source_geojson=source_geojson, target_geojson=target_geojson, output_geojson=output_geojson)\n"
   ]
  },
  {
   "cell_type": "code",
   "execution_count": 4,
   "metadata": {},
   "outputs": [],
   "source": [
    "source_gdf = gpd.read_file(source_geojson)\n",
    "target_gdf = gpd.read_file(target_geojson)"
   ]
  },
  {
   "cell_type": "code",
   "execution_count": 5,
   "metadata": {},
   "outputs": [
    {
     "data": {
      "text/html": [
       "<div>\n",
       "<style scoped>\n",
       "    .dataframe tbody tr th:only-of-type {\n",
       "        vertical-align: middle;\n",
       "    }\n",
       "\n",
       "    .dataframe tbody tr th {\n",
       "        vertical-align: top;\n",
       "    }\n",
       "\n",
       "    .dataframe thead th {\n",
       "        text-align: right;\n",
       "    }\n",
       "</style>\n",
       "<table border=\"1\" class=\"dataframe\">\n",
       "  <thead>\n",
       "    <tr style=\"text-align: right;\">\n",
       "      <th></th>\n",
       "      <th>color</th>\n",
       "      <th>height</th>\n",
       "      <th>geometry</th>\n",
       "    </tr>\n",
       "  </thead>\n",
       "  <tbody>\n",
       "    <tr>\n",
       "      <th>0</th>\n",
       "      <td>rgb(34.7259649814772, 33.37307021087659, 70.52...</td>\n",
       "      <td>520</td>\n",
       "      <td>LINESTRING (2.5822e+06 1.1952e+06, 2.5822e+06 ...</td>\n",
       "    </tr>\n",
       "    <tr>\n",
       "      <th>1</th>\n",
       "      <td>rgb(122.18593199046393, 175.14270568183994, 14...</td>\n",
       "      <td>540</td>\n",
       "      <td>LINESTRING (2.5817e+06 1.1949e+06, 2.5817e+06 ...</td>\n",
       "    </tr>\n",
       "    <tr>\n",
       "      <th>2</th>\n",
       "      <td>rgb(160.68566675478058, 54.98538402197648, 163...</td>\n",
       "      <td>550</td>\n",
       "      <td>LINESTRING (2.5819e+06 1.194e+06, 2.5819e+06 1...</td>\n",
       "    </tr>\n",
       "    <tr>\n",
       "      <th>3</th>\n",
       "      <td>rgb(125.15551947581321, 122.69872785673837, 13...</td>\n",
       "      <td>550</td>\n",
       "      <td>LINESTRING (2.5816e+06 1.194e+06, 2.5816e+06 1...</td>\n",
       "    </tr>\n",
       "    <tr>\n",
       "      <th>4</th>\n",
       "      <td>rgb(191.09050775321427, 169.14806939538468, 11...</td>\n",
       "      <td>560</td>\n",
       "      <td>LINESTRING (2.5816e+06 1.1938e+06, 2.5816e+06 ...</td>\n",
       "    </tr>\n",
       "  </tbody>\n",
       "</table>\n",
       "</div>"
      ],
      "text/plain": [
       "                                               color  height  \\\n",
       "0  rgb(34.7259649814772, 33.37307021087659, 70.52...     520   \n",
       "1  rgb(122.18593199046393, 175.14270568183994, 14...     540   \n",
       "2  rgb(160.68566675478058, 54.98538402197648, 163...     550   \n",
       "3  rgb(125.15551947581321, 122.69872785673837, 13...     550   \n",
       "4  rgb(191.09050775321427, 169.14806939538468, 11...     560   \n",
       "\n",
       "                                            geometry  \n",
       "0  LINESTRING (2.5822e+06 1.1952e+06, 2.5822e+06 ...  \n",
       "1  LINESTRING (2.5817e+06 1.1949e+06, 2.5817e+06 ...  \n",
       "2  LINESTRING (2.5819e+06 1.194e+06, 2.5819e+06 1...  \n",
       "3  LINESTRING (2.5816e+06 1.194e+06, 2.5816e+06 1...  \n",
       "4  LINESTRING (2.5816e+06 1.1938e+06, 2.5816e+06 ...  "
      ]
     },
     "execution_count": 5,
     "metadata": {},
     "output_type": "execute_result"
    }
   ],
   "source": [
    "source_gdf.head()"
   ]
  },
  {
   "cell_type": "code",
   "execution_count": 6,
   "metadata": {},
   "outputs": [
    {
     "data": {
      "text/html": [
       "<div>\n",
       "<style scoped>\n",
       "    .dataframe tbody tr th:only-of-type {\n",
       "        vertical-align: middle;\n",
       "    }\n",
       "\n",
       "    .dataframe tbody tr th {\n",
       "        vertical-align: top;\n",
       "    }\n",
       "\n",
       "    .dataframe thead th {\n",
       "        text-align: right;\n",
       "    }\n",
       "</style>\n",
       "<table border=\"1\" class=\"dataframe\">\n",
       "  <thead>\n",
       "    <tr style=\"text-align: right;\">\n",
       "      <th></th>\n",
       "      <th>color</th>\n",
       "      <th>geometry</th>\n",
       "    </tr>\n",
       "  </thead>\n",
       "  <tbody>\n",
       "    <tr>\n",
       "      <th>0</th>\n",
       "      <td>rgb(41.19139747571343, 76.52709651869034, 6.67...</td>\n",
       "      <td>LINESTRING (2.5816e+06 1.1953e+06, 2.5816e+06 ...</td>\n",
       "    </tr>\n",
       "    <tr>\n",
       "      <th>1</th>\n",
       "      <td>rgb(190.87333485768073, 61.04649349667606, 80....</td>\n",
       "      <td>LINESTRING (2.5826e+06 1.1954e+06, 2.5826e+06 ...</td>\n",
       "    </tr>\n",
       "    <tr>\n",
       "      <th>2</th>\n",
       "      <td>rgb(197.01536947936776, 101.05657516967675, 3....</td>\n",
       "      <td>LINESTRING (2.583e+06 1.1954e+06, 2.583e+06 1....</td>\n",
       "    </tr>\n",
       "    <tr>\n",
       "      <th>3</th>\n",
       "      <td>rgb(123.84123779613385, 72.72195377483608, 99....</td>\n",
       "      <td>LINESTRING (2.5821e+06 1.1952e+06, 2.5821e+06 ...</td>\n",
       "    </tr>\n",
       "    <tr>\n",
       "      <th>4</th>\n",
       "      <td>rgb(146.023092235117, 60.64756080877301, 159.4...</td>\n",
       "      <td>LINESTRING (2.5816e+06 1.195e+06, 2.5816e+06 1...</td>\n",
       "    </tr>\n",
       "  </tbody>\n",
       "</table>\n",
       "</div>"
      ],
      "text/plain": [
       "                                               color  \\\n",
       "0  rgb(41.19139747571343, 76.52709651869034, 6.67...   \n",
       "1  rgb(190.87333485768073, 61.04649349667606, 80....   \n",
       "2  rgb(197.01536947936776, 101.05657516967675, 3....   \n",
       "3  rgb(123.84123779613385, 72.72195377483608, 99....   \n",
       "4  rgb(146.023092235117, 60.64756080877301, 159.4...   \n",
       "\n",
       "                                            geometry  \n",
       "0  LINESTRING (2.5816e+06 1.1953e+06, 2.5816e+06 ...  \n",
       "1  LINESTRING (2.5826e+06 1.1954e+06, 2.5826e+06 ...  \n",
       "2  LINESTRING (2.583e+06 1.1954e+06, 2.583e+06 1....  \n",
       "3  LINESTRING (2.5821e+06 1.1952e+06, 2.5821e+06 ...  \n",
       "4  LINESTRING (2.5816e+06 1.195e+06, 2.5816e+06 1...  "
      ]
     },
     "execution_count": 6,
     "metadata": {},
     "output_type": "execute_result"
    }
   ],
   "source": [
    "target_gdf.head()"
   ]
  },
  {
   "cell_type": "code",
   "execution_count": null,
   "metadata": {},
   "outputs": [],
   "source": []
  }
 ],
 "metadata": {
  "kernelspec": {
   "display_name": "gis",
   "language": "python",
   "name": "python3"
  },
  "language_info": {
   "codemirror_mode": {
    "name": "ipython",
    "version": 3
   },
   "file_extension": ".py",
   "mimetype": "text/x-python",
   "name": "python",
   "nbconvert_exporter": "python",
   "pygments_lexer": "ipython3",
   "version": "3.12.7"
  }
 },
 "nbformat": 4,
 "nbformat_minor": 2
}

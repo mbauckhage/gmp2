{
 "cells": [
  {
   "cell_type": "code",
   "execution_count": 2,
   "metadata": {},
   "outputs": [],
   "source": [
    "import geopandas as gpd\n",
    "import rasterio\n",
    "from rasterio.features import rasterize\n",
    "from shapely.geometry import mapping\n",
    "import numpy as np\n",
    "from PIL import Image\n",
    "import os\n",
    "import logging\n"
   ]
  },
  {
   "cell_type": "code",
   "execution_count": 16,
   "metadata": {},
   "outputs": [],
   "source": [
    "input_geojson_path = \"/Users/mischabauckhage/Documents/ETH/02_Master/3_Semester/GMP2/gmp2/01_Segmentation/output/old_national_1975_skeleton.geojson\"\n",
    "output_tiff_path = \"/Users/mischabauckhage/Documents/ETH/02_Master/3_Semester/GMP2/gmp2/02_DEM/output/height_map_old_national_1975.png\"\n",
    "output_png_path = \"output/\"\n",
    "height_attribute = \"height\"\n",
    "input_crs = \"EPSG:2056\"\n",
    "resolution = 0.5"
   ]
  },
  {
   "cell_type": "code",
   "execution_count": 40,
   "metadata": {},
   "outputs": [
    {
     "name": "stdout",
     "output_type": "stream",
     "text": [
      "     height geometry  is_valid\n",
      "265     530     None     False\n",
      "338     540     None     False\n"
     ]
    },
    {
     "data": {
      "text/html": [
       "<div>\n",
       "<style scoped>\n",
       "    .dataframe tbody tr th:only-of-type {\n",
       "        vertical-align: middle;\n",
       "    }\n",
       "\n",
       "    .dataframe tbody tr th {\n",
       "        vertical-align: top;\n",
       "    }\n",
       "\n",
       "    .dataframe thead th {\n",
       "        text-align: right;\n",
       "    }\n",
       "</style>\n",
       "<table border=\"1\" class=\"dataframe\">\n",
       "  <thead>\n",
       "    <tr style=\"text-align: right;\">\n",
       "      <th></th>\n",
       "      <th>height</th>\n",
       "      <th>geometry</th>\n",
       "      <th>is_valid</th>\n",
       "    </tr>\n",
       "  </thead>\n",
       "  <tbody>\n",
       "    <tr>\n",
       "      <th>0</th>\n",
       "      <td>520</td>\n",
       "      <td>LINESTRING (2.5822e+06 1.1952e+06, 2.5822e+06 ...</td>\n",
       "      <td>True</td>\n",
       "    </tr>\n",
       "    <tr>\n",
       "      <th>1</th>\n",
       "      <td>540</td>\n",
       "      <td>LINESTRING (2.5817e+06 1.1949e+06, 2.5817e+06 ...</td>\n",
       "      <td>True</td>\n",
       "    </tr>\n",
       "    <tr>\n",
       "      <th>2</th>\n",
       "      <td>550</td>\n",
       "      <td>LINESTRING (2.5819e+06 1.194e+06, 2.5819e+06 1...</td>\n",
       "      <td>True</td>\n",
       "    </tr>\n",
       "    <tr>\n",
       "      <th>3</th>\n",
       "      <td>550</td>\n",
       "      <td>LINESTRING (2.5816e+06 1.194e+06, 2.5816e+06 1...</td>\n",
       "      <td>True</td>\n",
       "    </tr>\n",
       "    <tr>\n",
       "      <th>4</th>\n",
       "      <td>560</td>\n",
       "      <td>LINESTRING (2.5816e+06 1.1938e+06, 2.5816e+06 ...</td>\n",
       "      <td>True</td>\n",
       "    </tr>\n",
       "  </tbody>\n",
       "</table>\n",
       "</div>"
      ],
      "text/plain": [
       "   height                                           geometry  is_valid\n",
       "0     520  LINESTRING (2.5822e+06 1.1952e+06, 2.5822e+06 ...      True\n",
       "1     540  LINESTRING (2.5817e+06 1.1949e+06, 2.5817e+06 ...      True\n",
       "2     550  LINESTRING (2.5819e+06 1.194e+06, 2.5819e+06 1...      True\n",
       "3     550  LINESTRING (2.5816e+06 1.194e+06, 2.5816e+06 1...      True\n",
       "4     560  LINESTRING (2.5816e+06 1.1938e+06, 2.5816e+06 ...      True"
      ]
     },
     "execution_count": 40,
     "metadata": {},
     "output_type": "execute_result"
    }
   ],
   "source": [
    "import numpy as np\n",
    "import rasterio\n",
    "from rasterio.features import rasterize\n",
    "from shapely.geometry import mapping\n",
    "import geopandas as gpd\n",
    "\n",
    "# Load the GeoDataFrame\n",
    "gdf = gpd.read_file(input_geojson_path)\n",
    "\n",
    "\n",
    "\n",
    "# Select only the 'height' attribute and the geometry\n",
    "gdf = gdf[['height', 'geometry']]\n",
    "# Check validity of each geometry\n",
    "gdf['is_valid'] = gdf['geometry'].is_valid\n",
    "\n",
    "\n",
    "# Show all invalid geometries\n",
    "invalid_geometries = gdf[~gdf['is_valid']]\n",
    "print(invalid_geometries)\n",
    "\n",
    "# Remove all features that have 'is_valid' == False\n",
    "gdf = gdf[gdf['is_valid']]\n",
    "\n",
    "gdf.head()\n",
    "\n",
    "\n"
   ]
  },
  {
   "cell_type": "code",
   "execution_count": 41,
   "metadata": {},
   "outputs": [
    {
     "name": "stdout",
     "output_type": "stream",
     "text": [
      "True\n",
      "2581552.698868844 1192587.1014954355 2585425.9010940734 1195404.8796298308\n"
     ]
    },
    {
     "data": {
      "text/html": [
       "<div>\n",
       "<style scoped>\n",
       "    .dataframe tbody tr th:only-of-type {\n",
       "        vertical-align: middle;\n",
       "    }\n",
       "\n",
       "    .dataframe tbody tr th {\n",
       "        vertical-align: top;\n",
       "    }\n",
       "\n",
       "    .dataframe thead th {\n",
       "        text-align: right;\n",
       "    }\n",
       "</style>\n",
       "<table border=\"1\" class=\"dataframe\">\n",
       "  <thead>\n",
       "    <tr style=\"text-align: right;\">\n",
       "      <th></th>\n",
       "      <th>height</th>\n",
       "      <th>geometry</th>\n",
       "      <th>is_valid</th>\n",
       "    </tr>\n",
       "  </thead>\n",
       "  <tbody>\n",
       "    <tr>\n",
       "      <th>0</th>\n",
       "      <td>520</td>\n",
       "      <td>LINESTRING (2.5822e+06 1.1952e+06, 2.5822e+06 ...</td>\n",
       "      <td>True</td>\n",
       "    </tr>\n",
       "    <tr>\n",
       "      <th>1</th>\n",
       "      <td>540</td>\n",
       "      <td>LINESTRING (2.5817e+06 1.1949e+06, 2.5817e+06 ...</td>\n",
       "      <td>True</td>\n",
       "    </tr>\n",
       "    <tr>\n",
       "      <th>2</th>\n",
       "      <td>550</td>\n",
       "      <td>LINESTRING (2.5819e+06 1.194e+06, 2.5819e+06 1...</td>\n",
       "      <td>True</td>\n",
       "    </tr>\n",
       "    <tr>\n",
       "      <th>3</th>\n",
       "      <td>550</td>\n",
       "      <td>LINESTRING (2.5816e+06 1.194e+06, 2.5816e+06 1...</td>\n",
       "      <td>True</td>\n",
       "    </tr>\n",
       "    <tr>\n",
       "      <th>4</th>\n",
       "      <td>560</td>\n",
       "      <td>LINESTRING (2.5816e+06 1.1938e+06, 2.5816e+06 ...</td>\n",
       "      <td>True</td>\n",
       "    </tr>\n",
       "  </tbody>\n",
       "</table>\n",
       "</div>"
      ],
      "text/plain": [
       "   height                                           geometry  is_valid\n",
       "0     520  LINESTRING (2.5822e+06 1.1952e+06, 2.5822e+06 ...      True\n",
       "1     540  LINESTRING (2.5817e+06 1.1949e+06, 2.5817e+06 ...      True\n",
       "2     550  LINESTRING (2.5819e+06 1.194e+06, 2.5819e+06 1...      True\n",
       "3     550  LINESTRING (2.5816e+06 1.194e+06, 2.5816e+06 1...      True\n",
       "4     560  LINESTRING (2.5816e+06 1.1938e+06, 2.5816e+06 ...      True"
      ]
     },
     "execution_count": 41,
     "metadata": {},
     "output_type": "execute_result"
    }
   ],
   "source": [
    "#gdf = gdf.to_crs(epsg=2056)\n",
    "\n",
    "# Verify if all geometries are now valid\n",
    "print(gdf['is_valid'].all())  # Should return True if all geometries are valid\n",
    "\n",
    "\n",
    "# Get the total bounds of the geometries\n",
    "minx, miny, maxx, maxy = gdf.total_bounds\n",
    "print(minx, miny, maxx, maxy)\n",
    "\n",
    "gdf.head()"
   ]
  },
  {
   "cell_type": "code",
   "execution_count": 32,
   "metadata": {},
   "outputs": [],
   "source": [
    "\n",
    "# Define the output raster dimensions (based on the resolution)\n",
    "\n",
    "width = int((maxx - minx) / resolution)\n",
    "height = int((maxy - miny) / resolution)\n",
    "\n",
    "# Create an affine transform for the raster\n",
    "transform = rasterio.transform.from_bounds(minx, miny, maxx, maxy, width, height)\n",
    "\n",
    "# Create an empty array to store the raster data\n",
    "raster = np.zeros((height, width), dtype=rasterio.float32)\n",
    "\n",
    "\n",
    "\n",
    "# Prepare geometries and corresponding 'hoehe' values for rasterization\n",
    "shapes = ((mapping(geom), value) for geom, value in zip(gdf.geometry, gdf[height_attribute]))\n",
    "\n",
    "# Rasterize the geometries using the 'hoehe' values\n",
    "raster = rasterize(\n",
    "    shapes=shapes,\n",
    "    out_shape=raster.shape,\n",
    "    transform=transform,\n",
    "    fill=0,  # Background value\n",
    "    dtype=rasterio.float32\n",
    ")\n",
    "\n",
    "# At this point, 'raster' contains the rasterized data\n"
   ]
  },
  {
   "cell_type": "code",
   "execution_count": null,
   "metadata": {},
   "outputs": [],
   "source": []
  }
 ],
 "metadata": {
  "kernelspec": {
   "display_name": "gis",
   "language": "python",
   "name": "python3"
  },
  "language_info": {
   "codemirror_mode": {
    "name": "ipython",
    "version": 3
   },
   "file_extension": ".py",
   "mimetype": "text/x-python",
   "name": "python",
   "nbconvert_exporter": "python",
   "pygments_lexer": "ipython3",
   "version": "3.12.7"
  }
 },
 "nbformat": 4,
 "nbformat_minor": 2
}

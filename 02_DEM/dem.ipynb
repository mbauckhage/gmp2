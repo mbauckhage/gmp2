{
 "cells": [
  {
   "cell_type": "code",
   "execution_count": 1,
   "metadata": {},
   "outputs": [
    {
     "name": "stdout",
     "output_type": "stream",
     "text": [
      "Intel MKL WARNING: Support of Intel(R) Streaming SIMD Extensions 4.2 (Intel(R) SSE4.2) enabled only processors has been deprecated. Intel oneAPI Math Kernel Library 2025.0 will require Intel(R) Advanced Vector Extensions (Intel(R) AVX) instructions.\n",
      "Intel MKL WARNING: Support of Intel(R) Streaming SIMD Extensions 4.2 (Intel(R) SSE4.2) enabled only processors has been deprecated. Intel oneAPI Math Kernel Library 2025.0 will require Intel(R) Advanced Vector Extensions (Intel(R) AVX) instructions.\n"
     ]
    }
   ],
   "source": [
    "import geopandas as gpd\n",
    "import rasterio\n",
    "from rasterio.features import rasterize\n",
    "from shapely.geometry import mapping\n",
    "import numpy as np\n"
   ]
  },
  {
   "cell_type": "code",
   "execution_count": 6,
   "metadata": {},
   "outputs": [],
   "source": [
    "\n",
    "\n",
    "def geojson_to_tiff(geojson_path, tiff_path, resolution=0.5, input_crs='EPSG:2056'):\n",
    "    # Read the GeoJSON as a GeoDataFrame\n",
    "    gdf = gpd.read_file(geojson_path)\n",
    "\n",
    "    # Ensure the GeoDataFrame has a 'hoehe' column\n",
    "    if 'hoehe' not in gdf.columns:\n",
    "        raise ValueError(\"GeoJSON must have a 'hoehe' attribute for heights\")\n",
    "\n",
    "    # Check if CRS is set; if not, assign the input CRS (assuming EPSG:4326 if not provided)\n",
    "    if gdf.crs is None:\n",
    "        gdf.set_crs(input_crs, inplace=True)\n",
    "        print(f\"CRS was missing. Set to {input_crs}\")\n",
    "\n",
    "    # Reproject the GeoDataFrame to EPSG:2056\n",
    "    gdf = gdf.to_crs(epsg=2056)\n",
    "\n",
    "    # Set up the bounds of the raster (based on the geometry bounds)\n",
    "    minx, miny, maxx, maxy = gdf.total_bounds\n",
    "\n",
    "    # Define the output raster dimensions (based on the finer resolution)\n",
    "    width = int((maxx - minx) / resolution)\n",
    "    height = int((maxy - miny) / resolution)\n",
    "\n",
    "    # Create an affine transform for the raster\n",
    "    transform = rasterio.transform.from_bounds(minx, miny, maxx, maxy, width, height)\n",
    "\n",
    "    # Create an empty array to store the raster data\n",
    "    raster = np.zeros((height, width), dtype=rasterio.float32)\n",
    "\n",
    "    # Prepare geometries and corresponding 'hoehe' values for rasterization\n",
    "    shapes = ((mapping(geom), value) for geom, value in zip(gdf.geometry, gdf['hoehe']))\n",
    "\n",
    "    # Rasterize the MultiLineString geometries using the 'hoehe' values\n",
    "    raster = rasterize(\n",
    "        shapes=shapes,\n",
    "        out_shape=raster.shape,\n",
    "        transform=transform,\n",
    "        fill=0,  # Background value\n",
    "        dtype=rasterio.float32\n",
    "    )\n",
    "\n",
    "    # Save the raster data to a GeoTIFF with EPSG:2056\n",
    "    with rasterio.open(\n",
    "        tiff_path,\n",
    "        'w',\n",
    "        driver='GTiff',\n",
    "        height=height,\n",
    "        width=width,\n",
    "        count=1,\n",
    "        dtype=rasterio.float32,\n",
    "        crs='EPSG:2056',  # Set the CRS to EPSG:2056\n",
    "        transform=transform,\n",
    "    ) as dst:\n",
    "        dst.write(raster, 1)\n",
    "\n"
   ]
  },
  {
   "cell_type": "code",
   "execution_count": 8,
   "metadata": {},
   "outputs": [
    {
     "name": "stdout",
     "output_type": "stream",
     "text": [
      "CRS was missing. Set to EPSG:2056\n"
     ]
    }
   ],
   "source": [
    "\n",
    "# Example usage\n",
    "geojson_path = \"data/test_lines.geojson\"\n",
    "tiff_path = \"output/output_height_raster.tiff\"\n",
    "geojson_to_tiff(geojson_path, tiff_path,resolution=0.1)"
   ]
  },
  {
   "cell_type": "code",
   "execution_count": null,
   "metadata": {},
   "outputs": [],
   "source": []
  }
 ],
 "metadata": {
  "kernelspec": {
   "display_name": "gis",
   "language": "python",
   "name": "python3"
  },
  "language_info": {
   "codemirror_mode": {
    "name": "ipython",
    "version": 3
   },
   "file_extension": ".py",
   "mimetype": "text/x-python",
   "name": "python",
   "nbconvert_exporter": "python",
   "pygments_lexer": "ipython3",
   "version": "3.12.2"
  }
 },
 "nbformat": 4,
 "nbformat_minor": 2
}
